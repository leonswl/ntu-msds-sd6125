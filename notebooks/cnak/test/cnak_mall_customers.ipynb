{
 "cells": [
  {
   "cell_type": "markdown",
   "metadata": {},
   "source": [
    "# CNAK with Mall Customers Data"
   ]
  },
  {
   "cell_type": "code",
   "execution_count": 1,
   "metadata": {},
   "outputs": [],
   "source": [
    "import os\n",
    "import sys\n",
    "import pandas as pd\n",
    "import numpy as np\n",
    "from sklearn.preprocessing import StandardScaler"
   ]
  },
  {
   "cell_type": "code",
   "execution_count": 2,
   "metadata": {},
   "outputs": [],
   "source": [
    "module_path = os.path.abspath(os.path.join('../..'))\n",
    "if module_path not in sys.path:\n",
    "    sys.path.append(module_path)\n",
    "\n",
    "from src.cnak import cnak"
   ]
  },
  {
   "cell_type": "code",
   "execution_count": 3,
   "metadata": {},
   "outputs": [
    {
     "data": {
      "text/html": [
       "<div>\n",
       "<style scoped>\n",
       "    .dataframe tbody tr th:only-of-type {\n",
       "        vertical-align: middle;\n",
       "    }\n",
       "\n",
       "    .dataframe tbody tr th {\n",
       "        vertical-align: top;\n",
       "    }\n",
       "\n",
       "    .dataframe thead th {\n",
       "        text-align: right;\n",
       "    }\n",
       "</style>\n",
       "<table border=\"1\" class=\"dataframe\">\n",
       "  <thead>\n",
       "    <tr style=\"text-align: right;\">\n",
       "      <th></th>\n",
       "      <th>Gender</th>\n",
       "      <th>Age</th>\n",
       "      <th>Income</th>\n",
       "      <th>Score</th>\n",
       "    </tr>\n",
       "  </thead>\n",
       "  <tbody>\n",
       "    <tr>\n",
       "      <th>0</th>\n",
       "      <td>1.128152</td>\n",
       "      <td>-1.424569</td>\n",
       "      <td>-1.738999</td>\n",
       "      <td>-0.434801</td>\n",
       "    </tr>\n",
       "    <tr>\n",
       "      <th>1</th>\n",
       "      <td>1.128152</td>\n",
       "      <td>-1.281035</td>\n",
       "      <td>-1.738999</td>\n",
       "      <td>1.195704</td>\n",
       "    </tr>\n",
       "    <tr>\n",
       "      <th>2</th>\n",
       "      <td>-0.886405</td>\n",
       "      <td>-1.352802</td>\n",
       "      <td>-1.700830</td>\n",
       "      <td>-1.715913</td>\n",
       "    </tr>\n",
       "    <tr>\n",
       "      <th>3</th>\n",
       "      <td>-0.886405</td>\n",
       "      <td>-1.137502</td>\n",
       "      <td>-1.700830</td>\n",
       "      <td>1.040418</td>\n",
       "    </tr>\n",
       "    <tr>\n",
       "      <th>4</th>\n",
       "      <td>-0.886405</td>\n",
       "      <td>-0.563369</td>\n",
       "      <td>-1.662660</td>\n",
       "      <td>-0.395980</td>\n",
       "    </tr>\n",
       "  </tbody>\n",
       "</table>\n",
       "</div>"
      ],
      "text/plain": [
       "     Gender       Age    Income     Score\n",
       "0  1.128152 -1.424569 -1.738999 -0.434801\n",
       "1  1.128152 -1.281035 -1.738999  1.195704\n",
       "2 -0.886405 -1.352802 -1.700830 -1.715913\n",
       "3 -0.886405 -1.137502 -1.700830  1.040418\n",
       "4 -0.886405 -0.563369 -1.662660 -0.395980"
      ]
     },
     "execution_count": 3,
     "metadata": {},
     "output_type": "execute_result"
    }
   ],
   "source": [
    "df = pd.read_csv(\"../../data/processed/mall_customers_data.csv\",index_col=[0])\n",
    "df.reset_index(drop=True,inplace=True)\n",
    "df.head()"
   ]
  },
  {
   "cell_type": "code",
   "execution_count": 4,
   "metadata": {},
   "outputs": [
    {
     "name": "stdout",
     "output_type": "stream",
     "text": [
      " gamma: 0.7  K_min: 2  K_max: 21\n",
      "K_hat: 1\n",
      "2\n",
      " gamma: 0.7  K_min: 2  K_max: 21\n",
      "K_hat: 7\n",
      "8\n",
      " gamma: 0.7  K_min: 2  K_max: 21\n",
      "K_hat: 7\n",
      "8\n",
      " gamma: 0.7  K_min: 2  K_max: 21\n",
      "K_hat: 9\n",
      "10\n",
      " gamma: 0.7  K_min: 2  K_max: 21\n",
      "K_hat: 1\n",
      "2\n",
      " gamma: 0.7  K_min: 2  K_max: 21\n",
      "K_hat: 1\n",
      "2\n",
      " gamma: 0.7  K_min: 2  K_max: 21\n",
      "K_hat: 8\n",
      "9\n",
      " gamma: 0.7  K_min: 2  K_max: 21\n",
      "K_hat: 9\n",
      "10\n",
      " gamma: 0.7  K_min: 2  K_max: 21\n",
      "K_hat: 9\n",
      "10\n",
      " gamma: 0.7  K_min: 2  K_max: 21\n",
      "K_hat: 1\n",
      "2\n",
      " gamma: 0.7  K_min: 2  K_max: 21\n",
      "K_hat: 1\n",
      "2\n",
      " gamma: 0.7  K_min: 2  K_max: 21\n",
      "K_hat: 12\n",
      "13\n",
      " gamma: 0.7  K_min: 2  K_max: 21\n",
      "K_hat: 9\n",
      "10\n",
      " gamma: 0.7  K_min: 2  K_max: 21\n",
      "K_hat: 1\n",
      "2\n",
      " gamma: 0.7  K_min: 2  K_max: 21\n",
      "K_hat: 1\n",
      "2\n",
      " gamma: 0.7  K_min: 2  K_max: 21\n",
      "K_hat: 9\n",
      "10\n",
      " gamma: 0.7  K_min: 2  K_max: 21\n",
      "K_hat: 7\n",
      "8\n",
      " gamma: 0.7  K_min: 2  K_max: 21\n",
      "K_hat: 1\n",
      "2\n",
      " gamma: 0.7  K_min: 2  K_max: 21\n",
      "K_hat: 9\n",
      "10\n",
      " gamma: 0.7  K_min: 2  K_max: 21\n",
      "K_hat: 7\n",
      "8\n",
      " gamma: 0.7  K_min: 2  K_max: 21\n",
      "K_hat: 7\n",
      "8\n",
      " gamma: 0.7  K_min: 2  K_max: 21\n",
      "K_hat: 1\n",
      "2\n",
      " gamma: 0.7  K_min: 2  K_max: 21\n",
      "K_hat: 9\n",
      "10\n",
      " gamma: 0.7  K_min: 2  K_max: 21\n",
      "K_hat: 7\n",
      "8\n",
      " gamma: 0.7  K_min: 2  K_max: 21\n",
      "K_hat: 12\n",
      "13\n",
      " gamma: 0.7  K_min: 2  K_max: 21\n",
      "K_hat: 9\n",
      "10\n",
      " gamma: 0.7  K_min: 2  K_max: 21\n",
      "K_hat: 9\n",
      "10\n",
      " gamma: 0.7  K_min: 2  K_max: 21\n",
      "K_hat: 1\n",
      "2\n",
      " gamma: 0.7  K_min: 2  K_max: 21\n",
      "K_hat: 1\n",
      "2\n",
      " gamma: 0.7  K_min: 2  K_max: 21\n",
      "K_hat: 1\n",
      "2\n",
      " gamma: 0.7  K_min: 2  K_max: 21\n",
      "K_hat: 7\n",
      "8\n",
      " gamma: 0.7  K_min: 2  K_max: 21\n",
      "K_hat: 9\n",
      "10\n",
      " gamma: 0.7  K_min: 2  K_max: 21\n",
      "K_hat: 9\n",
      "10\n",
      " gamma: 0.7  K_min: 2  K_max: 21\n",
      "K_hat: 1\n",
      "2\n",
      " gamma: 0.7  K_min: 2  K_max: 21\n",
      "K_hat: 9\n",
      "10\n",
      " gamma: 0.7  K_min: 2  K_max: 21\n",
      "K_hat: 1\n",
      "2\n",
      " gamma: 0.7  K_min: 2  K_max: 21\n",
      "K_hat: 7\n",
      "8\n",
      " gamma: 0.7  K_min: 2  K_max: 21\n",
      "K_hat: 9\n",
      "10\n",
      " gamma: 0.7  K_min: 2  K_max: 21\n",
      "K_hat: 9\n",
      "10\n",
      " gamma: 0.7  K_min: 2  K_max: 21\n",
      "K_hat: 9\n",
      "10\n",
      " gamma: 0.7  K_min: 2  K_max: 21\n",
      "K_hat: 7\n",
      "8\n",
      " gamma: 0.7  K_min: 2  K_max: 21\n",
      "K_hat: 1\n",
      "2\n",
      " gamma: 0.7  K_min: 2  K_max: 21\n",
      "K_hat: 9\n",
      "10\n",
      " gamma: 0.7  K_min: 2  K_max: 21\n",
      "K_hat: 9\n",
      "10\n",
      " gamma: 0.7  K_min: 2  K_max: 21\n",
      "K_hat: 1\n",
      "2\n",
      " gamma: 0.7  K_min: 2  K_max: 21\n",
      "K_hat: 8\n",
      "9\n",
      " gamma: 0.7  K_min: 2  K_max: 21\n",
      "K_hat: 7\n",
      "8\n",
      " gamma: 0.7  K_min: 2  K_max: 21\n",
      "K_hat: 1\n",
      "2\n",
      " gamma: 0.7  K_min: 2  K_max: 21\n",
      "K_hat: 7\n",
      "8\n",
      " gamma: 0.7  K_min: 2  K_max: 21\n",
      "K_hat: 9\n",
      "10\n"
     ]
    }
   ],
   "source": [
    "cluster_lst = []\n",
    "for _ in range(50):\n",
    "    labels, scores, centers = cnak.CNAK(np.array(df), k_min=2)\n",
    "    clusters = len(set(labels))\n",
    "    cluster_lst.append(clusters)\n",
    "    print(clusters)"
   ]
  },
  {
   "cell_type": "code",
   "execution_count": 27,
   "metadata": {},
   "outputs": [
    {
     "data": {
      "text/html": [
       "<div>\n",
       "<style scoped>\n",
       "    .dataframe tbody tr th:only-of-type {\n",
       "        vertical-align: middle;\n",
       "    }\n",
       "\n",
       "    .dataframe tbody tr th {\n",
       "        vertical-align: top;\n",
       "    }\n",
       "\n",
       "    .dataframe thead th {\n",
       "        text-align: right;\n",
       "    }\n",
       "</style>\n",
       "<table border=\"1\" class=\"dataframe\">\n",
       "  <thead>\n",
       "    <tr style=\"text-align: right;\">\n",
       "      <th></th>\n",
       "      <th>clusters</th>\n",
       "      <th>count</th>\n",
       "    </tr>\n",
       "  </thead>\n",
       "  <tbody>\n",
       "    <tr>\n",
       "      <th>0</th>\n",
       "      <td>10</td>\n",
       "      <td>18</td>\n",
       "    </tr>\n",
       "    <tr>\n",
       "      <th>1</th>\n",
       "      <td>2</td>\n",
       "      <td>17</td>\n",
       "    </tr>\n",
       "    <tr>\n",
       "      <th>2</th>\n",
       "      <td>8</td>\n",
       "      <td>11</td>\n",
       "    </tr>\n",
       "    <tr>\n",
       "      <th>3</th>\n",
       "      <td>9</td>\n",
       "      <td>2</td>\n",
       "    </tr>\n",
       "    <tr>\n",
       "      <th>4</th>\n",
       "      <td>13</td>\n",
       "      <td>2</td>\n",
       "    </tr>\n",
       "  </tbody>\n",
       "</table>\n",
       "</div>"
      ],
      "text/plain": [
       "   clusters  count\n",
       "0        10     18\n",
       "1         2     17\n",
       "2         8     11\n",
       "3         9      2\n",
       "4        13      2"
      ]
     },
     "execution_count": 27,
     "metadata": {},
     "output_type": "execute_result"
    }
   ],
   "source": [
    "clusters_df = pd.DataFrame(cluster_lst).value_counts().reset_index()\n",
    "clusters_df.columns = ['clusters','count']\n",
    "clusters_df"
   ]
  },
  {
   "cell_type": "code",
   "execution_count": 31,
   "metadata": {},
   "outputs": [
    {
     "data": {
      "text/plain": [
       "10"
      ]
     },
     "execution_count": 31,
     "metadata": {},
     "output_type": "execute_result"
    }
   ],
   "source": [
    "clusters_df.loc[clusters_df['count'] == clusters_df['count'].max()]['clusters'][0]"
   ]
  },
  {
   "cell_type": "code",
   "execution_count": 6,
   "metadata": {},
   "outputs": [
    {
     "name": "stdout",
     "output_type": "stream",
     "text": [
      " gamma: 0.7  K_min: 8  K_max: 11\n",
      "K_hat: 3\n"
     ]
    }
   ],
   "source": [
    "labels, scores, centers = cnak.CNAK(np.array(df), k_min=8, k_max=11)"
   ]
  },
  {
   "cell_type": "code",
   "execution_count": 7,
   "metadata": {},
   "outputs": [
    {
     "data": {
      "text/plain": [
       "{0, 1, 2, 3, 4, 5, 6, 7, 8, 9}"
      ]
     },
     "execution_count": 7,
     "metadata": {},
     "output_type": "execute_result"
    }
   ],
   "source": [
    "set(labels)"
   ]
  },
  {
   "cell_type": "code",
   "execution_count": 8,
   "metadata": {},
   "outputs": [],
   "source": [
    "from sklearn.metrics import silhouette_score, davies_bouldin_score, calinski_harabasz_score\n",
    "from sklearn.metrics import mutual_info_score, adjusted_rand_score"
   ]
  },
  {
   "cell_type": "code",
   "execution_count": 9,
   "metadata": {},
   "outputs": [],
   "source": [
    "cnak_metrics = []\n",
    "# Calculate clustering metrics\n",
    "silhouette = silhouette_score(df, np.array(labels))\n",
    "db_index = davies_bouldin_score(X=df, labels=np.array(labels))\n",
    "ch_index = calinski_harabasz_score(df, np.array(labels))\n",
    "# ari = adjusted_rand_score(y, np.array(labels))\n",
    "# mi = mutual_info_score(y, np.array(labels))\n",
    "\n",
    "cnak_metrics.append([silhouette,db_index,ch_index])"
   ]
  },
  {
   "cell_type": "code",
   "execution_count": 10,
   "metadata": {},
   "outputs": [
    {
     "data": {
      "text/html": [
       "<div>\n",
       "<style scoped>\n",
       "    .dataframe tbody tr th:only-of-type {\n",
       "        vertical-align: middle;\n",
       "    }\n",
       "\n",
       "    .dataframe tbody tr th {\n",
       "        vertical-align: top;\n",
       "    }\n",
       "\n",
       "    .dataframe thead th {\n",
       "        text-align: right;\n",
       "    }\n",
       "</style>\n",
       "<table border=\"1\" class=\"dataframe\">\n",
       "  <thead>\n",
       "    <tr style=\"text-align: right;\">\n",
       "      <th></th>\n",
       "      <th>silhouette</th>\n",
       "      <th>db_index</th>\n",
       "      <th>ch_index</th>\n",
       "    </tr>\n",
       "  </thead>\n",
       "  <tbody>\n",
       "    <tr>\n",
       "      <th>cnak</th>\n",
       "      <td>0.420764</td>\n",
       "      <td>0.833103</td>\n",
       "      <td>89.978196</td>\n",
       "    </tr>\n",
       "  </tbody>\n",
       "</table>\n",
       "</div>"
      ],
      "text/plain": [
       "      silhouette  db_index   ch_index\n",
       "cnak    0.420764  0.833103  89.978196"
      ]
     },
     "execution_count": 10,
     "metadata": {},
     "output_type": "execute_result"
    }
   ],
   "source": [
    "pd.DataFrame(data=cnak_metrics, columns=['silhouette','db_index','ch_index'], index=['cnak'])"
   ]
  }
 ],
 "metadata": {
  "kernelspec": {
   "display_name": ".venv",
   "language": "python",
   "name": "python3"
  },
  "language_info": {
   "codemirror_mode": {
    "name": "ipython",
    "version": 3
   },
   "file_extension": ".py",
   "mimetype": "text/x-python",
   "name": "python",
   "nbconvert_exporter": "python",
   "pygments_lexer": "ipython3",
   "version": "3.11.7"
  }
 },
 "nbformat": 4,
 "nbformat_minor": 2
}
