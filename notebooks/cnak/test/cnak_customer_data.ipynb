{
 "cells": [
  {
   "cell_type": "markdown",
   "metadata": {},
   "source": [
    "# CNAK with Customer Data"
   ]
  },
  {
   "cell_type": "code",
   "execution_count": 1,
   "metadata": {},
   "outputs": [],
   "source": [
    "import os\n",
    "import sys\n",
    "import pandas as pd\n",
    "import numpy as np\n",
    "from sklearn.preprocessing import StandardScaler"
   ]
  },
  {
   "cell_type": "code",
   "execution_count": 2,
   "metadata": {},
   "outputs": [],
   "source": [
    "module_path = os.path.abspath(os.path.join('../..'))\n",
    "if module_path not in sys.path:\n",
    "    sys.path.append(module_path)\n",
    "\n",
    "from src.cnak import cnak"
   ]
  },
  {
   "cell_type": "code",
   "execution_count": 3,
   "metadata": {},
   "outputs": [
    {
     "data": {
      "text/html": [
       "<div>\n",
       "<style scoped>\n",
       "    .dataframe tbody tr th:only-of-type {\n",
       "        vertical-align: middle;\n",
       "    }\n",
       "\n",
       "    .dataframe tbody tr th {\n",
       "        vertical-align: top;\n",
       "    }\n",
       "\n",
       "    .dataframe thead th {\n",
       "        text-align: right;\n",
       "    }\n",
       "</style>\n",
       "<table border=\"1\" class=\"dataframe\">\n",
       "  <thead>\n",
       "    <tr style=\"text-align: right;\">\n",
       "      <th></th>\n",
       "      <th>0</th>\n",
       "      <th>1</th>\n",
       "      <th>2</th>\n",
       "      <th>3</th>\n",
       "      <th>Region</th>\n",
       "    </tr>\n",
       "    <tr>\n",
       "      <th>index</th>\n",
       "      <th></th>\n",
       "      <th></th>\n",
       "      <th></th>\n",
       "      <th></th>\n",
       "      <th></th>\n",
       "    </tr>\n",
       "  </thead>\n",
       "  <tbody>\n",
       "    <tr>\n",
       "      <th>0</th>\n",
       "      <td>1.086517</td>\n",
       "      <td>-0.489271</td>\n",
       "      <td>-1.820478</td>\n",
       "      <td>0.098182</td>\n",
       "      <td>3</td>\n",
       "    </tr>\n",
       "    <tr>\n",
       "      <th>1</th>\n",
       "      <td>1.299070</td>\n",
       "      <td>-0.460314</td>\n",
       "      <td>-1.648821</td>\n",
       "      <td>0.529508</td>\n",
       "      <td>3</td>\n",
       "    </tr>\n",
       "    <tr>\n",
       "      <th>2</th>\n",
       "      <td>1.508339</td>\n",
       "      <td>0.705672</td>\n",
       "      <td>-1.673296</td>\n",
       "      <td>1.785358</td>\n",
       "      <td>3</td>\n",
       "    </tr>\n",
       "    <tr>\n",
       "      <th>3</th>\n",
       "      <td>-0.803517</td>\n",
       "      <td>0.648243</td>\n",
       "      <td>-1.639635</td>\n",
       "      <td>0.317834</td>\n",
       "      <td>3</td>\n",
       "    </tr>\n",
       "    <tr>\n",
       "      <th>4</th>\n",
       "      <td>0.880487</td>\n",
       "      <td>1.001375</td>\n",
       "      <td>-1.874751</td>\n",
       "      <td>0.342138</td>\n",
       "      <td>3</td>\n",
       "    </tr>\n",
       "  </tbody>\n",
       "</table>\n",
       "</div>"
      ],
      "text/plain": [
       "              0         1         2         3  Region\n",
       "index                                                \n",
       "0      1.086517 -0.489271 -1.820478  0.098182       3\n",
       "1      1.299070 -0.460314 -1.648821  0.529508       3\n",
       "2      1.508339  0.705672 -1.673296  1.785358       3\n",
       "3     -0.803517  0.648243 -1.639635  0.317834       3\n",
       "4      0.880487  1.001375 -1.874751  0.342138       3"
      ]
     },
     "execution_count": 3,
     "metadata": {},
     "output_type": "execute_result"
    }
   ],
   "source": [
    "df = pd.read_csv(\"../../data/processed/customer_data.csv\",index_col=[0])\n",
    "df.head()"
   ]
  },
  {
   "cell_type": "code",
   "execution_count": 4,
   "metadata": {},
   "outputs": [],
   "source": [
    "X = df.iloc[:,:-1].reset_index(drop=True)\n",
    "y = df['Region']"
   ]
  },
  {
   "cell_type": "markdown",
   "metadata": {},
   "source": [
    "Let's run kmeans for 50 times "
   ]
  },
  {
   "cell_type": "code",
   "execution_count": 5,
   "metadata": {},
   "outputs": [
    {
     "name": "stdout",
     "output_type": "stream",
     "text": [
      " gamma: 0.7  K_min: 2  K_max: 21\n"
     ]
    },
    {
     "name": "stdout",
     "output_type": "stream",
     "text": [
      "K_hat: 1\n",
      " gamma: 0.7  K_min: 2  K_max: 21\n",
      "K_hat: 1\n",
      " gamma: 0.7  K_min: 2  K_max: 21\n",
      "K_hat: 1\n",
      " gamma: 0.7  K_min: 2  K_max: 21\n",
      "K_hat: 1\n",
      " gamma: 0.7  K_min: 2  K_max: 21\n",
      "K_hat: 1\n",
      " gamma: 0.7  K_min: 2  K_max: 21\n",
      "K_hat: 1\n",
      " gamma: 0.7  K_min: 2  K_max: 21\n",
      "K_hat: 1\n",
      " gamma: 0.7  K_min: 2  K_max: 21\n",
      "K_hat: 1\n",
      " gamma: 0.7  K_min: 2  K_max: 21\n",
      "K_hat: 1\n",
      " gamma: 0.7  K_min: 2  K_max: 21\n",
      "K_hat: 1\n",
      " gamma: 0.7  K_min: 2  K_max: 21\n",
      "K_hat: 1\n",
      " gamma: 0.7  K_min: 2  K_max: 21\n",
      "K_hat: 1\n",
      " gamma: 0.7  K_min: 2  K_max: 21\n",
      "K_hat: 1\n",
      " gamma: 0.7  K_min: 2  K_max: 21\n",
      "K_hat: 1\n",
      " gamma: 0.7  K_min: 2  K_max: 21\n",
      "K_hat: 1\n",
      " gamma: 0.7  K_min: 2  K_max: 21\n",
      "K_hat: 1\n",
      " gamma: 0.7  K_min: 2  K_max: 21\n",
      "K_hat: 1\n",
      " gamma: 0.7  K_min: 2  K_max: 21\n",
      "K_hat: 1\n",
      " gamma: 0.7  K_min: 2  K_max: 21\n",
      "K_hat: 1\n",
      " gamma: 0.7  K_min: 2  K_max: 21\n",
      "K_hat: 1\n",
      " gamma: 0.7  K_min: 2  K_max: 21\n",
      "K_hat: 1\n",
      " gamma: 0.7  K_min: 2  K_max: 21\n",
      "K_hat: 1\n",
      " gamma: 0.7  K_min: 2  K_max: 21\n",
      "K_hat: 1\n",
      " gamma: 0.7  K_min: 2  K_max: 21\n",
      "K_hat: 1\n",
      " gamma: 0.7  K_min: 2  K_max: 21\n",
      "K_hat: 1\n",
      " gamma: 0.7  K_min: 2  K_max: 21\n",
      "K_hat: 1\n",
      " gamma: 0.7  K_min: 2  K_max: 21\n",
      "K_hat: 1\n",
      " gamma: 0.7  K_min: 2  K_max: 21\n",
      "K_hat: 1\n",
      " gamma: 0.7  K_min: 2  K_max: 21\n",
      "K_hat: 1\n",
      " gamma: 0.7  K_min: 2  K_max: 21\n",
      "K_hat: 1\n",
      " gamma: 0.7  K_min: 2  K_max: 21\n",
      "K_hat: 1\n",
      " gamma: 0.7  K_min: 2  K_max: 21\n",
      "K_hat: 1\n",
      " gamma: 0.7  K_min: 2  K_max: 21\n",
      "K_hat: 1\n",
      " gamma: 0.7  K_min: 2  K_max: 21\n",
      "K_hat: 1\n",
      " gamma: 0.7  K_min: 2  K_max: 21\n",
      "K_hat: 1\n",
      " gamma: 0.7  K_min: 2  K_max: 21\n",
      "K_hat: 1\n",
      " gamma: 0.7  K_min: 2  K_max: 21\n",
      "K_hat: 1\n",
      " gamma: 0.7  K_min: 2  K_max: 21\n",
      "K_hat: 1\n",
      " gamma: 0.7  K_min: 2  K_max: 21\n",
      "K_hat: 1\n",
      " gamma: 0.7  K_min: 2  K_max: 21\n",
      "K_hat: 1\n",
      " gamma: 0.7  K_min: 2  K_max: 21\n",
      "K_hat: 1\n",
      " gamma: 0.7  K_min: 2  K_max: 21\n",
      "K_hat: 1\n",
      " gamma: 0.7  K_min: 2  K_max: 21\n",
      "K_hat: 1\n",
      " gamma: 0.7  K_min: 2  K_max: 21\n",
      "K_hat: 1\n",
      " gamma: 0.7  K_min: 2  K_max: 21\n",
      "K_hat: 1\n",
      " gamma: 0.7  K_min: 2  K_max: 21\n",
      "K_hat: 1\n",
      " gamma: 0.7  K_min: 2  K_max: 21\n",
      "K_hat: 1\n",
      " gamma: 0.7  K_min: 2  K_max: 21\n",
      "K_hat: 1\n",
      " gamma: 0.7  K_min: 2  K_max: 21\n",
      "K_hat: 1\n",
      " gamma: 0.7  K_min: 2  K_max: 21\n",
      "K_hat: 1\n"
     ]
    }
   ],
   "source": [
    "cluster_lst = []\n",
    "for _ in range(50):\n",
    "    labels, scores, centers = cnak.CNAK(np.array(X), k_min=2)\n",
    "    clusters = len(set(labels))\n",
    "    cluster_lst.append(clusters)"
   ]
  },
  {
   "cell_type": "markdown",
   "metadata": {},
   "source": [
    "Most of the iterations led to 1 cluster. Only 1 iteration had 2 clusters"
   ]
  },
  {
   "cell_type": "code",
   "execution_count": 7,
   "metadata": {},
   "outputs": [
    {
     "data": {
      "text/plain": [
       "0\n",
       "2    50\n",
       "Name: count, dtype: int64"
      ]
     },
     "execution_count": 7,
     "metadata": {},
     "output_type": "execute_result"
    }
   ],
   "source": [
    "pd.DataFrame(cluster_lst).value_counts()"
   ]
  }
 ],
 "metadata": {
  "kernelspec": {
   "display_name": ".venv",
   "language": "python",
   "name": "python3"
  },
  "language_info": {
   "codemirror_mode": {
    "name": "ipython",
    "version": 3
   },
   "file_extension": ".py",
   "mimetype": "text/x-python",
   "name": "python",
   "nbconvert_exporter": "python",
   "pygments_lexer": "ipython3",
   "version": "3.11.7"
  }
 },
 "nbformat": 4,
 "nbformat_minor": 2
}
