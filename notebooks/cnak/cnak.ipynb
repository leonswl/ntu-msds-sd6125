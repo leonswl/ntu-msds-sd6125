{
 "cells": [
  {
   "cell_type": "markdown",
   "metadata": {},
   "source": [
    "# CNAK"
   ]
  },
  {
   "cell_type": "code",
   "execution_count": 1,
   "metadata": {},
   "outputs": [],
   "source": [
    "# import libraries\n",
    "import os\n",
    "import glob\n",
    "import sys\n",
    "import warnings\n",
    "from tqdm.notebook import tqdm\n",
    "\n",
    "import matplotlib.pyplot as plt\n",
    "import seaborn as sns\n",
    "import pandas as pd\n",
    "import numpy as np\n",
    "\n",
    "warnings.filterwarnings(action='once')\n"
   ]
  },
  {
   "cell_type": "markdown",
   "metadata": {},
   "source": [
    "import cnak module"
   ]
  },
  {
   "cell_type": "code",
   "execution_count": 2,
   "metadata": {},
   "outputs": [],
   "source": [
    "module_path = os.path.abspath(os.path.join('../..'))\n",
    "if module_path not in sys.path:\n",
    "    sys.path.append(module_path)\n",
    "\n",
    "from src.cnak import cnak"
   ]
  },
  {
   "cell_type": "markdown",
   "metadata": {},
   "source": [
    "## Load datasets"
   ]
  },
  {
   "cell_type": "markdown",
   "metadata": {},
   "source": [
    "Glob all processed csv files"
   ]
  },
  {
   "cell_type": "code",
   "execution_count": 3,
   "metadata": {},
   "outputs": [
    {
     "name": "stdout",
     "output_type": "stream",
     "text": [
      "../../data/processed/mall_customers_data.csv\n",
      "../../data/processed/country_data.csv\n",
      "../../data/processed/customer_data.csv\n"
     ]
    }
   ],
   "source": [
    "df_lst = []\n",
    "for file in glob.glob(\"../../data/processed/*.csv\"):\n",
    "    print(file)\n",
    "    df = pd.read_csv(file,index_col=[0])\n",
    "    df_lst.append(df)"
   ]
  },
  {
   "cell_type": "code",
   "execution_count": 4,
   "metadata": {},
   "outputs": [],
   "source": [
    "# dataframes of each datasets in X and y (if available)\n",
    "X_mall_customers = df_lst[0].reset_index(drop=True)\n",
    "\n",
    "X_country = df_lst[1].reset_index(drop=True)\n",
    "\n",
    "X_customer = df_lst[2].iloc[:,:-1].reset_index(drop=True)\n",
    "y_customer = df_lst[2]['Region']"
   ]
  },
  {
   "cell_type": "markdown",
   "metadata": {},
   "source": [
    "## Train CNAK to obtain optimal cluster number, K\n",
    "We will run CNAK 50 times to determine which is the optimal cluster number (k) for Kmeans."
   ]
  },
  {
   "cell_type": "code",
   "execution_count": 5,
   "metadata": {},
   "outputs": [],
   "source": [
    "X_dict = {\n",
    "    'mall_customers': X_mall_customers,\n",
    "    'country': X_country,\n",
    "    'customer': X_customer\n",
    "}"
   ]
  },
  {
   "cell_type": "code",
   "execution_count": 6,
   "metadata": {},
   "outputs": [],
   "source": [
    "def run_cnak(X_dict:dict, gamma:float=0.7, num_iter:int=50) -> dict:\n",
    "    \"\"\"\n",
    "    Function run cnak \n",
    "    \"\"\"\n",
    "    data_cluster_dict = {} # initialise empty dictionary to store optimal cluster number for each dataset after 50 runs\n",
    "    for counter, (dataset_name, X) in enumerate(X_dict.items(), start=1):\n",
    "        print(f\"Dataset: {dataset_name} - [{counter}/{len(X_dict)}]\")\n",
    "        cluster_lst = [] # initialise empty list to store clusters number for each run\n",
    "        for _ in tqdm(range(num_iter)): # 50 iterations\n",
    "            labels, scores, centers = cnak.CNAK(np.array(X), gamma=gamma, k_min=2)\n",
    "            clusters = len(set(labels)) # number of clusters\n",
    "            cluster_lst.append(clusters) # append to list\n",
    "\n",
    "        clusters_df = pd.DataFrame(cluster_lst).value_counts().reset_index()\n",
    "        clusters_df.columns = ['clusters','count']\n",
    "        data_cluster_dict[dataset_name] = clusters_df.loc[clusters_df['count'] == clusters_df['count'].max()]['clusters'][0] # find optimal cluster \n",
    "\n",
    "    return data_cluster_dict"
   ]
  },
  {
   "cell_type": "code",
   "execution_count": 7,
   "metadata": {},
   "outputs": [
    {
     "name": "stdout",
     "output_type": "stream",
     "text": [
      "Dataset: mall_customers - [1/3]\n"
     ]
    },
    {
     "data": {
      "application/vnd.jupyter.widget-view+json": {
       "model_id": "6e9d35e392504d2b9f11443afbb0cc03",
       "version_major": 2,
       "version_minor": 0
      },
      "text/plain": [
       "  0%|          | 0/50 [00:00<?, ?it/s]"
      ]
     },
     "metadata": {},
     "output_type": "display_data"
    },
    {
     "name": "stdout",
     "output_type": "stream",
     "text": [
      "Dataset: country - [2/3]\n"
     ]
    },
    {
     "data": {
      "application/vnd.jupyter.widget-view+json": {
       "model_id": "c41177dea5064cde881fc8e895434007",
       "version_major": 2,
       "version_minor": 0
      },
      "text/plain": [
       "  0%|          | 0/50 [00:00<?, ?it/s]"
      ]
     },
     "metadata": {},
     "output_type": "display_data"
    },
    {
     "name": "stdout",
     "output_type": "stream",
     "text": [
      "Dataset: customer - [3/3]\n"
     ]
    },
    {
     "data": {
      "application/vnd.jupyter.widget-view+json": {
       "model_id": "ecd3af82e080484d85919d4002b24444",
       "version_major": 2,
       "version_minor": 0
      },
      "text/plain": [
       "  0%|          | 0/50 [00:00<?, ?it/s]"
      ]
     },
     "metadata": {},
     "output_type": "display_data"
    }
   ],
   "source": [
    "data_cluster_dict = run_cnak(X_dict=X_dict, gamma=1, num_iter=50)"
   ]
  },
  {
   "cell_type": "markdown",
   "metadata": {},
   "source": [
    "optimal cluster number for each dataset"
   ]
  },
  {
   "cell_type": "code",
   "execution_count": 8,
   "metadata": {},
   "outputs": [
    {
     "data": {
      "text/plain": [
       "{'mall_customers': 2, 'country': 2, 'customer': 2}"
      ]
     },
     "execution_count": 8,
     "metadata": {},
     "output_type": "execute_result"
    }
   ],
   "source": [
    "data_cluster_dict"
   ]
  },
  {
   "cell_type": "markdown",
   "metadata": {},
   "source": [
    "the dictionary below is a manual collation of optimal cluster number for kmeans using other methods such as elbow or silhouette score"
   ]
  },
  {
   "cell_type": "code",
   "execution_count": 9,
   "metadata": {},
   "outputs": [],
   "source": [
    "norm_cluster_dict = {'mall_customers': 5, 'country': 3, 'customer': 2}"
   ]
  },
  {
   "cell_type": "markdown",
   "metadata": {},
   "source": [
    "## Evaluation"
   ]
  },
  {
   "cell_type": "code",
   "execution_count": 10,
   "metadata": {},
   "outputs": [],
   "source": [
    "from sklearn.cluster import KMeans\n",
    "from sklearn.metrics import silhouette_score, davies_bouldin_score, calinski_harabasz_score\n",
    "from sklearn.metrics import mutual_info_score, adjusted_rand_score"
   ]
  },
  {
   "cell_type": "code",
   "execution_count": 11,
   "metadata": {},
   "outputs": [],
   "source": [
    "def evaluate_cnak (dataset_name:str, dataset_clusters:dict, X:pd.DataFrame, y:pd.Series=None)->list:\n",
    "\n",
    "    metrics_lst = []\n",
    "    for k, clusters in dataset_clusters.items():\n",
    "        kmeans = KMeans(n_clusters=clusters,random_state=0, n_init=\"auto\").fit(X)\n",
    "        labels = kmeans.labels_\n",
    "\n",
    "        metrics = []\n",
    "        # Calculate clustering metrics\n",
    "        silhouette = silhouette_score(X, np.array(labels))\n",
    "        db_index = davies_bouldin_score(X, np.array(labels))\n",
    "        ch_index = calinski_harabasz_score(X, np.array(labels))\n",
    "        ari = None\n",
    "        mi = None\n",
    "\n",
    "        if y is not None:\n",
    "            ari = adjusted_rand_score(y, np.array(labels))\n",
    "            mi = mutual_info_score(y, np.array(labels))\n",
    "\n",
    "        metrics.append([dataset_name, clusters, silhouette,db_index,ch_index, ari, mi])\n",
    "\n",
    "        metrics_df = pd.DataFrame(data=metrics, columns=['dataset_name','clusters','silhouette','db_index','ch_index', 'ari', 'mi'], index=[k])\n",
    "        metrics_lst.append(metrics_df)\n",
    "    \n",
    "    return pd.concat(metrics_lst)"
   ]
  },
  {
   "cell_type": "code",
   "execution_count": 12,
   "metadata": {},
   "outputs": [],
   "source": [
    "mall_customers_clusters = {\n",
    "    'cnak':10,\n",
    "    'without_cnak': 5\n",
    "}\n",
    "\n",
    "customer_clusters = {\n",
    "    'cnak':2,\n",
    "    'without_cnak': 2\n",
    "}\n",
    "\n",
    "country_clusters = {\n",
    "    'cnak':2,\n",
    "    'without_cnak': 3\n",
    "}"
   ]
  },
  {
   "cell_type": "code",
   "execution_count": 37,
   "metadata": {},
   "outputs": [
    {
     "data": {
      "text/html": [
       "<div>\n",
       "<style scoped>\n",
       "    .dataframe tbody tr th:only-of-type {\n",
       "        vertical-align: middle;\n",
       "    }\n",
       "\n",
       "    .dataframe tbody tr th {\n",
       "        vertical-align: top;\n",
       "    }\n",
       "\n",
       "    .dataframe thead th {\n",
       "        text-align: right;\n",
       "    }\n",
       "</style>\n",
       "<table border=\"1\" class=\"dataframe\">\n",
       "  <thead>\n",
       "    <tr style=\"text-align: right;\">\n",
       "      <th></th>\n",
       "      <th>is_cnak</th>\n",
       "      <th>variable</th>\n",
       "      <th>value</th>\n",
       "    </tr>\n",
       "  </thead>\n",
       "  <tbody>\n",
       "    <tr>\n",
       "      <th>0</th>\n",
       "      <td>cnak</td>\n",
       "      <td>mall_customers_clusters</td>\n",
       "      <td>10</td>\n",
       "    </tr>\n",
       "    <tr>\n",
       "      <th>1</th>\n",
       "      <td>without_cnak</td>\n",
       "      <td>mall_customers_clusters</td>\n",
       "      <td>5</td>\n",
       "    </tr>\n",
       "    <tr>\n",
       "      <th>2</th>\n",
       "      <td>cnak</td>\n",
       "      <td>customer_clusters</td>\n",
       "      <td>2</td>\n",
       "    </tr>\n",
       "    <tr>\n",
       "      <th>3</th>\n",
       "      <td>without_cnak</td>\n",
       "      <td>customer_clusters</td>\n",
       "      <td>2</td>\n",
       "    </tr>\n",
       "    <tr>\n",
       "      <th>4</th>\n",
       "      <td>cnak</td>\n",
       "      <td>country_clusters</td>\n",
       "      <td>2</td>\n",
       "    </tr>\n",
       "    <tr>\n",
       "      <th>5</th>\n",
       "      <td>without_cnak</td>\n",
       "      <td>country_clusters</td>\n",
       "      <td>3</td>\n",
       "    </tr>\n",
       "  </tbody>\n",
       "</table>\n",
       "</div>"
      ],
      "text/plain": [
       "        is_cnak                 variable  value\n",
       "0          cnak  mall_customers_clusters     10\n",
       "1  without_cnak  mall_customers_clusters      5\n",
       "2          cnak        customer_clusters      2\n",
       "3  without_cnak        customer_clusters      2\n",
       "4          cnak         country_clusters      2\n",
       "5  without_cnak         country_clusters      3"
      ]
     },
     "execution_count": 37,
     "metadata": {},
     "output_type": "execute_result"
    }
   ],
   "source": [
    "is_cnak_clusters_df"
   ]
  },
  {
   "cell_type": "code",
   "execution_count": 44,
   "metadata": {},
   "outputs": [
    {
     "data": {
      "image/png": "[encoded data removed]",
      "text/plain": [
       "<Figure size 600x400 with 1 Axes>"
      ]
     },
     "metadata": {},
     "output_type": "display_data"
    }
   ],
   "source": [
    "is_cnak_clusters_df = pd.DataFrame({\n",
    "                        'mall_customers_clusters':mall_customers_clusters,\n",
    "                        'customer_clusters': customer_clusters,\n",
    "                        'country_clusters':country_clusters\n",
    "                    }).reset_index(names='is_cnak').melt(id_vars='is_cnak')\n",
    "is_cnak_barplot = sns.barplot(data=is_cnak_clusters_df,x='variable',y='value',hue='is_cnak')\n",
    "is_cnak_barplot.set(\n",
    "    xlabel='dataset',\n",
    "    ylabel='clusters',\n",
    "    title='Optimal cluster (K) between CNAK and normal K-Means'\n",
    ")\n",
    "plt.savefig(\"../../assets/cnak/is_cnak_barplot.png\")"
   ]
  },
  {
   "cell_type": "code",
   "execution_count": 13,
   "metadata": {},
   "outputs": [],
   "source": [
    "mall_customers_metrics = evaluate_cnak(\n",
    "    dataset_name='mall_customers',\n",
    "    dataset_clusters=mall_customers_clusters,\n",
    "    X=X_mall_customers)\n",
    "customer_metrics = evaluate_cnak(\n",
    "    dataset_name='customers',\n",
    "    dataset_clusters=customer_clusters,\n",
    "    X=X_customer, \n",
    "    y=y_customer)\n",
    "country_metrics = evaluate_cnak(\n",
    "    dataset_name='country',\n",
    "    dataset_clusters=country_clusters,\n",
    "    X=X_country)"
   ]
  },
  {
   "cell_type": "code",
   "execution_count": 14,
   "metadata": {},
   "outputs": [
    {
     "name": "stderr",
     "output_type": "stream",
     "text": [
      "/var/folders/g4/mj9t8ccd7bn74b0c25x8xjth0000gn/T/ipykernel_3677/2119167317.py:1: FutureWarning: The behavior of DataFrame concatenation with empty or all-NA entries is deprecated. In a future version, this will no longer exclude empty or all-NA columns when determining the result dtypes. To retain the old behavior, exclude the relevant entries before the concat operation.\n",
      "  dataset_metrics = pd.concat([mall_customers_metrics,customer_metrics, country_metrics])\n"
     ]
    },
    {
     "data": {
      "text/html": [
       "<div>\n",
       "<style scoped>\n",
       "    .dataframe tbody tr th:only-of-type {\n",
       "        vertical-align: middle;\n",
       "    }\n",
       "\n",
       "    .dataframe tbody tr th {\n",
       "        vertical-align: top;\n",
       "    }\n",
       "\n",
       "    .dataframe thead th {\n",
       "        text-align: right;\n",
       "    }\n",
       "</style>\n",
       "<table border=\"1\" class=\"dataframe\">\n",
       "  <thead>\n",
       "    <tr style=\"text-align: right;\">\n",
       "      <th></th>\n",
       "      <th>dataset_name</th>\n",
       "      <th>clusters</th>\n",
       "      <th>silhouette</th>\n",
       "      <th>db_index</th>\n",
       "      <th>ch_index</th>\n",
       "      <th>ari</th>\n",
       "      <th>mi</th>\n",
       "    </tr>\n",
       "  </thead>\n",
       "  <tbody>\n",
       "    <tr>\n",
       "      <th>cnak</th>\n",
       "      <td>mall_customers</td>\n",
       "      <td>10</td>\n",
       "      <td>0.404981</td>\n",
       "      <td>0.885440</td>\n",
       "      <td>85.125508</td>\n",
       "      <td>NaN</td>\n",
       "      <td>NaN</td>\n",
       "    </tr>\n",
       "    <tr>\n",
       "      <th>without_cnak</th>\n",
       "      <td>mall_customers</td>\n",
       "      <td>5</td>\n",
       "      <td>0.317807</td>\n",
       "      <td>1.156509</td>\n",
       "      <td>68.980518</td>\n",
       "      <td>NaN</td>\n",
       "      <td>NaN</td>\n",
       "    </tr>\n",
       "    <tr>\n",
       "      <th>cnak</th>\n",
       "      <td>customers</td>\n",
       "      <td>2</td>\n",
       "      <td>0.406829</td>\n",
       "      <td>1.123881</td>\n",
       "      <td>195.070388</td>\n",
       "      <td>-0.017812</td>\n",
       "      <td>0.003447</td>\n",
       "    </tr>\n",
       "    <tr>\n",
       "      <th>without_cnak</th>\n",
       "      <td>customers</td>\n",
       "      <td>2</td>\n",
       "      <td>0.406829</td>\n",
       "      <td>1.123881</td>\n",
       "      <td>195.070388</td>\n",
       "      <td>-0.017812</td>\n",
       "      <td>0.003447</td>\n",
       "    </tr>\n",
       "    <tr>\n",
       "      <th>cnak</th>\n",
       "      <td>country</td>\n",
       "      <td>2</td>\n",
       "      <td>0.572717</td>\n",
       "      <td>0.647933</td>\n",
       "      <td>32.064753</td>\n",
       "      <td>NaN</td>\n",
       "      <td>NaN</td>\n",
       "    </tr>\n",
       "    <tr>\n",
       "      <th>without_cnak</th>\n",
       "      <td>country</td>\n",
       "      <td>3</td>\n",
       "      <td>0.368971</td>\n",
       "      <td>0.839504</td>\n",
       "      <td>88.591953</td>\n",
       "      <td>NaN</td>\n",
       "      <td>NaN</td>\n",
       "    </tr>\n",
       "  </tbody>\n",
       "</table>\n",
       "</div>"
      ],
      "text/plain": [
       "                dataset_name  clusters  silhouette  db_index    ch_index  \\\n",
       "cnak          mall_customers        10    0.404981  0.885440   85.125508   \n",
       "without_cnak  mall_customers         5    0.317807  1.156509   68.980518   \n",
       "cnak               customers         2    0.406829  1.123881  195.070388   \n",
       "without_cnak       customers         2    0.406829  1.123881  195.070388   \n",
       "cnak                 country         2    0.572717  0.647933   32.064753   \n",
       "without_cnak         country         3    0.368971  0.839504   88.591953   \n",
       "\n",
       "                   ari        mi  \n",
       "cnak               NaN       NaN  \n",
       "without_cnak       NaN       NaN  \n",
       "cnak         -0.017812  0.003447  \n",
       "without_cnak -0.017812  0.003447  \n",
       "cnak               NaN       NaN  \n",
       "without_cnak       NaN       NaN  "
      ]
     },
     "execution_count": 14,
     "metadata": {},
     "output_type": "execute_result"
    }
   ],
   "source": [
    "dataset_metrics = pd.concat([mall_customers_metrics,customer_metrics, country_metrics])\n",
    "dataset_metrics"
   ]
  },
  {
   "cell_type": "markdown",
   "metadata": {},
   "source": [
    "Visualisations"
   ]
  },
  {
   "cell_type": "code",
   "execution_count": 15,
   "metadata": {},
   "outputs": [],
   "source": [
    "dataset_metrics_melted = dataset_metrics.drop(['clusters'],axis=1).reset_index(names='use_cnak').melt(id_vars=['use_cnak','dataset_name'])"
   ]
  },
  {
   "cell_type": "code",
   "execution_count": 16,
   "metadata": {},
   "outputs": [
    {
     "data": {
      "image/png": "[encoded data removed]",
      "text/plain": [
       "<Figure size 600x400 with 1 Axes>"
      ]
     },
     "metadata": {},
     "output_type": "display_data"
    },
    {
     "data": {
      "image/png": "[encoded data removed]",
      "text/plain": [
       "<Figure size 600x400 with 1 Axes>"
      ]
     },
     "metadata": {},
     "output_type": "display_data"
    },
    {
     "data": {
      "image/png": "[encoded data removed]",
      "text/plain": [
       "<Figure size 600x400 with 1 Axes>"
      ]
     },
     "metadata": {},
     "output_type": "display_data"
    },
    {
     "data": {
      "image/png": "[encoded data removed]",
      "text/plain": [
       "<Figure size 600x400 with 1 Axes>"
      ]
     },
     "metadata": {},
     "output_type": "display_data"
    },
    {
     "data": {
      "image/png": "[encoded data removed]",
      "text/plain": [
       "<Figure size 600x400 with 1 Axes>"
      ]
     },
     "metadata": {},
     "output_type": "display_data"
    }
   ],
   "source": [
    "sns.set_theme(rc={'figure.figsize':(6,4)})\n",
    "for i, metric in enumerate(dataset_metrics_melted.variable.unique(), start=0):\n",
    "    dataset_metric = dataset_metrics_melted.loc[dataset_metrics_melted['variable']==metric]\n",
    "    bar_plot = sns.barplot(data=dataset_metric, x='dataset_name',y='value',hue='use_cnak')\n",
    "    bar_plot.set(xlabel='datasets',ylabel='metric values', title=metric)\n",
    "    # \n",
    "    plt.savefig(f\"../../assets/cnak/{metric}.png\")\n",
    "    plt.show()\n"
   ]
  },
  {
   "cell_type": "markdown",
   "metadata": {},
   "source": [
    "## Hyperparameter Tuning\n",
    "\n",
    "There is 1 hyperparameter available to tune the CNAK algorithm - gamma. \n",
    "\n",
    "This parameter is essentially a heuristics to determine ths sampling size in a multi-dimensional space. The size of the sampled datasets is critical as its size influences any statistical estiamte directly. Hence, using a heuristics is important as by estimating an optimal sample size that is representative of the dataset, this arbritrary selection makes computation more efficienct and reliable. Using a large sample size will naturally lead to a better estimate but at the expense of efficiency and reliability. \n",
    "\n",
    "The authors decided to extend the theory of determiming sample size for a unidimensional random variable to that of a multi-dimensional variable in forming a heuristic."
   ]
  },
  {
   "cell_type": "code",
   "execution_count": 17,
   "metadata": {},
   "outputs": [
    {
     "name": "stdout",
     "output_type": "stream",
     "text": [
      "Gamma: 0.5\n",
      "Start - [1/6]\n",
      "Dataset: mall_customers - [1/3]\n"
     ]
    },
    {
     "data": {
      "application/vnd.jupyter.widget-view+json": {
       "model_id": "9cc5217786594805b38a49b318ac2dbe",
       "version_major": 2,
       "version_minor": 0
      },
      "text/plain": [
       "  0%|          | 0/50 [00:00<?, ?it/s]"
      ]
     },
     "metadata": {},
     "output_type": "display_data"
    },
    {
     "name": "stdout",
     "output_type": "stream",
     "text": [
      "Dataset: country - [2/3]\n"
     ]
    },
    {
     "data": {
      "application/vnd.jupyter.widget-view+json": {
       "model_id": "75a9bd8b15b34ae5918762faeab99f5a",
       "version_major": 2,
       "version_minor": 0
      },
      "text/plain": [
       "  0%|          | 0/50 [00:00<?, ?it/s]"
      ]
     },
     "metadata": {},
     "output_type": "display_data"
    },
    {
     "name": "stdout",
     "output_type": "stream",
     "text": [
      "Dataset: customer - [3/3]\n"
     ]
    },
    {
     "data": {
      "application/vnd.jupyter.widget-view+json": {
       "model_id": "50cdbe102ba3400998a524cbfd06edcb",
       "version_major": 2,
       "version_minor": 0
      },
      "text/plain": [
       "  0%|          | 0/50 [00:00<?, ?it/s]"
      ]
     },
     "metadata": {},
     "output_type": "display_data"
    },
    {
     "name": "stdout",
     "output_type": "stream",
     "text": [
      "Gamma: 0.5, End - [1/6]\n",
      "Gamma: 0.6\n",
      "Start - [2/6]\n",
      "Dataset: mall_customers - [1/3]\n"
     ]
    },
    {
     "data": {
      "application/vnd.jupyter.widget-view+json": {
       "model_id": "2e6f8a4c542f4a73acefd779dfb82f0b",
       "version_major": 2,
       "version_minor": 0
      },
      "text/plain": [
       "  0%|          | 0/50 [00:00<?, ?it/s]"
      ]
     },
     "metadata": {},
     "output_type": "display_data"
    },
    {
     "name": "stdout",
     "output_type": "stream",
     "text": [
      "Dataset: country - [2/3]\n"
     ]
    },
    {
     "data": {
      "application/vnd.jupyter.widget-view+json": {
       "model_id": "b81ff9c791cb45409a6771e93f18b7e6",
       "version_major": 2,
       "version_minor": 0
      },
      "text/plain": [
       "  0%|          | 0/50 [00:00<?, ?it/s]"
      ]
     },
     "metadata": {},
     "output_type": "display_data"
    },
    {
     "name": "stdout",
     "output_type": "stream",
     "text": [
      "Dataset: customer - [3/3]\n"
     ]
    },
    {
     "data": {
      "application/vnd.jupyter.widget-view+json": {
       "model_id": "3eab144002ef4e2998badb4a966f4865",
       "version_major": 2,
       "version_minor": 0
      },
      "text/plain": [
       "  0%|          | 0/50 [00:00<?, ?it/s]"
      ]
     },
     "metadata": {},
     "output_type": "display_data"
    },
    {
     "name": "stdout",
     "output_type": "stream",
     "text": [
      "Gamma: 0.6, End - [2/6]\n",
      "Gamma: 0.7\n",
      "Start - [3/6]\n",
      "Dataset: mall_customers - [1/3]\n"
     ]
    },
    {
     "data": {
      "application/vnd.jupyter.widget-view+json": {
       "model_id": "e79585ea415e4fd98e40cc95dd497021",
       "version_major": 2,
       "version_minor": 0
      },
      "text/plain": [
       "  0%|          | 0/50 [00:00<?, ?it/s]"
      ]
     },
     "metadata": {},
     "output_type": "display_data"
    },
    {
     "name": "stdout",
     "output_type": "stream",
     "text": [
      "Dataset: country - [2/3]\n"
     ]
    },
    {
     "data": {
      "application/vnd.jupyter.widget-view+json": {
       "model_id": "94fa947f14bc421c87b2a511c52f6825",
       "version_major": 2,
       "version_minor": 0
      },
      "text/plain": [
       "  0%|          | 0/50 [00:00<?, ?it/s]"
      ]
     },
     "metadata": {},
     "output_type": "display_data"
    },
    {
     "name": "stdout",
     "output_type": "stream",
     "text": [
      "Dataset: customer - [3/3]\n"
     ]
    },
    {
     "data": {
      "application/vnd.jupyter.widget-view+json": {
       "model_id": "65475af0ef07403fb0009279cfa99485",
       "version_major": 2,
       "version_minor": 0
      },
      "text/plain": [
       "  0%|          | 0/50 [00:00<?, ?it/s]"
      ]
     },
     "metadata": {},
     "output_type": "display_data"
    },
    {
     "name": "stdout",
     "output_type": "stream",
     "text": [
      "Gamma: 0.7, End - [3/6]\n",
      "Gamma: 0.8\n",
      "Start - [4/6]\n",
      "Dataset: mall_customers - [1/3]\n"
     ]
    },
    {
     "data": {
      "application/vnd.jupyter.widget-view+json": {
       "model_id": "e270281e2cda45a19734732b8ba155c6",
       "version_major": 2,
       "version_minor": 0
      },
      "text/plain": [
       "  0%|          | 0/50 [00:00<?, ?it/s]"
      ]
     },
     "metadata": {},
     "output_type": "display_data"
    },
    {
     "name": "stdout",
     "output_type": "stream",
     "text": [
      "Dataset: country - [2/3]\n"
     ]
    },
    {
     "data": {
      "application/vnd.jupyter.widget-view+json": {
       "model_id": "81bdab70e36e4287ac09524e9c30c351",
       "version_major": 2,
       "version_minor": 0
      },
      "text/plain": [
       "  0%|          | 0/50 [00:00<?, ?it/s]"
      ]
     },
     "metadata": {},
     "output_type": "display_data"
    },
    {
     "name": "stdout",
     "output_type": "stream",
     "text": [
      "Dataset: customer - [3/3]\n"
     ]
    },
    {
     "data": {
      "application/vnd.jupyter.widget-view+json": {
       "model_id": "dd8bd83dd4c94fa896bf6d6432399e64",
       "version_major": 2,
       "version_minor": 0
      },
      "text/plain": [
       "  0%|          | 0/50 [00:00<?, ?it/s]"
      ]
     },
     "metadata": {},
     "output_type": "display_data"
    },
    {
     "name": "stdout",
     "output_type": "stream",
     "text": [
      "Gamma: 0.8, End - [4/6]\n",
      "Gamma: 0.9\n",
      "Start - [5/6]\n",
      "Dataset: mall_customers - [1/3]\n"
     ]
    },
    {
     "data": {
      "application/vnd.jupyter.widget-view+json": {
       "model_id": "a6909a7ca4844a45a619d68e98a70920",
       "version_major": 2,
       "version_minor": 0
      },
      "text/plain": [
       "  0%|          | 0/50 [00:00<?, ?it/s]"
      ]
     },
     "metadata": {},
     "output_type": "display_data"
    },
    {
     "name": "stdout",
     "output_type": "stream",
     "text": [
      "Dataset: country - [2/3]\n"
     ]
    },
    {
     "data": {
      "application/vnd.jupyter.widget-view+json": {
       "model_id": "42bea053245a4d408635b912e56f5ee9",
       "version_major": 2,
       "version_minor": 0
      },
      "text/plain": [
       "  0%|          | 0/50 [00:00<?, ?it/s]"
      ]
     },
     "metadata": {},
     "output_type": "display_data"
    },
    {
     "name": "stdout",
     "output_type": "stream",
     "text": [
      "Dataset: customer - [3/3]\n"
     ]
    },
    {
     "data": {
      "application/vnd.jupyter.widget-view+json": {
       "model_id": "e118859dad404cefa526323edf1e41fb",
       "version_major": 2,
       "version_minor": 0
      },
      "text/plain": [
       "  0%|          | 0/50 [00:00<?, ?it/s]"
      ]
     },
     "metadata": {},
     "output_type": "display_data"
    },
    {
     "name": "stdout",
     "output_type": "stream",
     "text": [
      "Gamma: 0.9, End - [5/6]\n",
      "Gamma: 1.0\n",
      "Start - [6/6]\n",
      "Dataset: mall_customers - [1/3]\n"
     ]
    },
    {
     "data": {
      "application/vnd.jupyter.widget-view+json": {
       "model_id": "0198e61bcc0a4e518e813b0afc3864e8",
       "version_major": 2,
       "version_minor": 0
      },
      "text/plain": [
       "  0%|          | 0/50 [00:00<?, ?it/s]"
      ]
     },
     "metadata": {},
     "output_type": "display_data"
    },
    {
     "name": "stdout",
     "output_type": "stream",
     "text": [
      "Dataset: country - [2/3]\n"
     ]
    },
    {
     "data": {
      "application/vnd.jupyter.widget-view+json": {
       "model_id": "b9f53e039bf440e0adc318ada1a745b1",
       "version_major": 2,
       "version_minor": 0
      },
      "text/plain": [
       "  0%|          | 0/50 [00:00<?, ?it/s]"
      ]
     },
     "metadata": {},
     "output_type": "display_data"
    },
    {
     "name": "stdout",
     "output_type": "stream",
     "text": [
      "Dataset: customer - [3/3]\n"
     ]
    },
    {
     "data": {
      "application/vnd.jupyter.widget-view+json": {
       "model_id": "f4129d393f9143f7b256860f11aec204",
       "version_major": 2,
       "version_minor": 0
      },
      "text/plain": [
       "  0%|          | 0/50 [00:00<?, ?it/s]"
      ]
     },
     "metadata": {},
     "output_type": "display_data"
    },
    {
     "name": "stdout",
     "output_type": "stream",
     "text": [
      "Gamma: 1.0, End - [6/6]\n"
     ]
    }
   ],
   "source": [
    "data_cluster_nested_dicts = {} # initialise empty list to store dictionaries of optimal dataset\n",
    "for counter, gamma in enumerate(np.linspace(0.5,1,6), start=1):\n",
    "    print(f\"Gamma: {gamma}\")\n",
    "    print(f\"Start - [{counter}/6]\")\n",
    "    data_cluster_dict = {} # initialise empty dictionary to store optimal cluster number for each dataset after 50 runs\n",
    "\n",
    "    data_cluster_dict = run_cnak(X_dict=X_dict, gamma=gamma, num_iter=50)\n",
    "    data_cluster_nested_dicts[gamma] = data_cluster_dict\n",
    "\n",
    "    print(f\"Gamma: {gamma}, End - [{counter}/6]\")"
   ]
  },
  {
   "cell_type": "code",
   "execution_count": 18,
   "metadata": {},
   "outputs": [
    {
     "data": {
      "text/plain": [
       "{0.5: {'mall_customers': 10, 'country': 2, 'customer': 2},\n",
       " 0.6: {'mall_customers': 2, 'country': 2, 'customer': 2},\n",
       " 0.7: {'mall_customers': 10, 'country': 2, 'customer': 2},\n",
       " 0.8: {'mall_customers': 2, 'country': 2, 'customer': 2},\n",
       " 0.9: {'mall_customers': 2, 'country': 2, 'customer': 2},\n",
       " 1.0: {'mall_customers': 2, 'country': 2, 'customer': 2}}"
      ]
     },
     "execution_count": 18,
     "metadata": {},
     "output_type": "execute_result"
    }
   ],
   "source": [
    "data_cluster_nested_dicts"
   ]
  },
  {
   "cell_type": "code",
   "execution_count": 27,
   "metadata": {},
   "outputs": [],
   "source": [
    "data_clusters_melted = pd.DataFrame(data=data_cluster_nested_dicts).reset_index(names='dataset').melt(id_vars='dataset')"
   ]
  },
  {
   "cell_type": "code",
   "execution_count": 43,
   "metadata": {},
   "outputs": [
    {
     "data": {
      "image/png": "[encoded data removed]",
      "text/plain": [
       "<Figure size 600x400 with 1 Axes>"
      ]
     },
     "metadata": {},
     "output_type": "display_data"
    }
   ],
   "source": [
    "data_clusters_barplot = sns.barplot(data_clusters_melted,x='dataset',y='value',hue='variable')\n",
    "data_clusters_barplot.set(\n",
    "    ylabel='clusters',\n",
    "    title='Values for Optimal K through tuning Gamma'\n",
    ")\n",
    "plt.savefig((\"../../assets/cnak/data_clusters_barplot.png\"))"
   ]
  },
  {
   "cell_type": "markdown",
   "metadata": {},
   "source": [
    "Only mall_customer dataset had a difference in cluster numbers, mostly due to further reduction in sample size which led to change in underlying data distribution. Theeotically, higher gamma values means more data is used which should lead to a more accurate and stable result. "
   ]
  },
  {
   "cell_type": "code",
   "execution_count": 19,
   "metadata": {},
   "outputs": [],
   "source": [
    "mall_customers_clusters_gamma = {\n",
    "    'gamma_05':10,\n",
    "    'gamma_1': 2\n",
    "}"
   ]
  },
  {
   "cell_type": "code",
   "execution_count": 20,
   "metadata": {},
   "outputs": [],
   "source": [
    "mall_customers_metrics = evaluate_cnak(\n",
    "    dataset_name='mall_customers_gamma',\n",
    "    dataset_clusters=mall_customers_clusters_gamma,\n",
    "    X=X_mall_customers)"
   ]
  },
  {
   "cell_type": "code",
   "execution_count": 21,
   "metadata": {},
   "outputs": [
    {
     "data": {
      "text/html": [
       "<div>\n",
       "<style scoped>\n",
       "    .dataframe tbody tr th:only-of-type {\n",
       "        vertical-align: middle;\n",
       "    }\n",
       "\n",
       "    .dataframe tbody tr th {\n",
       "        vertical-align: top;\n",
       "    }\n",
       "\n",
       "    .dataframe thead th {\n",
       "        text-align: right;\n",
       "    }\n",
       "</style>\n",
       "<table border=\"1\" class=\"dataframe\">\n",
       "  <thead>\n",
       "    <tr style=\"text-align: right;\">\n",
       "      <th></th>\n",
       "      <th>dataset_name</th>\n",
       "      <th>clusters</th>\n",
       "      <th>silhouette</th>\n",
       "      <th>db_index</th>\n",
       "      <th>ch_index</th>\n",
       "      <th>ari</th>\n",
       "      <th>mi</th>\n",
       "    </tr>\n",
       "  </thead>\n",
       "  <tbody>\n",
       "    <tr>\n",
       "      <th>gamma_05</th>\n",
       "      <td>mall_customers_gamma</td>\n",
       "      <td>10</td>\n",
       "      <td>0.404981</td>\n",
       "      <td>0.885440</td>\n",
       "      <td>85.125508</td>\n",
       "      <td>None</td>\n",
       "      <td>None</td>\n",
       "    </tr>\n",
       "    <tr>\n",
       "      <th>gamma_1</th>\n",
       "      <td>mall_customers_gamma</td>\n",
       "      <td>2</td>\n",
       "      <td>0.251815</td>\n",
       "      <td>1.613751</td>\n",
       "      <td>71.020516</td>\n",
       "      <td>None</td>\n",
       "      <td>None</td>\n",
       "    </tr>\n",
       "  </tbody>\n",
       "</table>\n",
       "</div>"
      ],
      "text/plain": [
       "                  dataset_name  clusters  silhouette  db_index   ch_index  \\\n",
       "gamma_05  mall_customers_gamma        10    0.404981  0.885440  85.125508   \n",
       "gamma_1   mall_customers_gamma         2    0.251815  1.613751  71.020516   \n",
       "\n",
       "           ari    mi  \n",
       "gamma_05  None  None  \n",
       "gamma_1   None  None  "
      ]
     },
     "execution_count": 21,
     "metadata": {},
     "output_type": "execute_result"
    }
   ],
   "source": [
    "mall_customers_metrics"
   ]
  }
 ],
 "metadata": {
  "kernelspec": {
   "display_name": ".venv",
   "language": "python",
   "name": "python3"
  },
  "language_info": {
   "codemirror_mode": {
    "name": "ipython",
    "version": 3
   },
   "file_extension": ".py",
   "mimetype": "text/x-python",
   "name": "python",
   "nbconvert_exporter": "python",
   "pygments_lexer": "ipython3",
   "version": "3.11.9"
  }
 },
 "nbformat": 4,
 "nbformat_minor": 2
}
